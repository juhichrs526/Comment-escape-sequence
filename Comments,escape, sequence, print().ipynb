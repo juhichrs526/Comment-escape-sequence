{
 "cells": [
  {
   "cell_type": "code",
   "execution_count": 9,
   "id": "604eecb5",
   "metadata": {},
   "outputs": [
    {
     "name": "stdout",
     "output_type": "stream",
     "text": [
      "Hello,friends\n",
      "Python full course\n"
     ]
    }
   ],
   "source": [
    "#my name is juhi chaurasiya\n",
    "\"\"\"\n",
    "This is a multiline comment\n",
    "\"\"\"\n",
    "print(\"Hello,friends\")\n",
    "print(\"Python full course\")\n"
   ]
  },
  {
   "cell_type": "code",
   "execution_count": 10,
   "id": "a50b2811",
   "metadata": {},
   "outputs": [
    {
     "name": "stdout",
     "output_type": "stream",
     "text": [
      "Hello, friends Python full course\n"
     ]
    }
   ],
   "source": [
    "print(\"Hello, friends\",end=\" \")\n",
    "print(\"Python full course\")"
   ]
  },
  {
   "cell_type": "code",
   "execution_count": 12,
   "id": "a329dc79",
   "metadata": {},
   "outputs": [
    {
     "name": "stdout",
     "output_type": "stream",
     "text": [
      "Hello, friends Python full course\n"
     ]
    }
   ],
   "source": [
    "print(\"Hello, friends\",\"Python full course\")\n"
   ]
  },
  {
   "cell_type": "code",
   "execution_count": 13,
   "id": "482ccb68",
   "metadata": {},
   "outputs": [
    {
     "name": "stdout",
     "output_type": "stream",
     "text": [
      "C:\\juhi\n"
     ]
    }
   ],
   "source": [
    "#escape--->\n",
    "print(\"C:\\juhi\")"
   ]
  },
  {
   "cell_type": "code",
   "execution_count": 14,
   "id": "baa9209a",
   "metadata": {},
   "outputs": [
    {
     "name": "stdout",
     "output_type": "stream",
     "text": [
      "C:\n",
      "juhi\n"
     ]
    }
   ],
   "source": [
    "print(\"C:\\njuhi\")"
   ]
  },
  {
   "cell_type": "code",
   "execution_count": 16,
   "id": "c8be1d97",
   "metadata": {},
   "outputs": [
    {
     "name": "stdout",
     "output_type": "stream",
     "text": [
      "C:\n",
      "aught\n"
     ]
    }
   ],
   "source": [
    "print(\"C:\\naught\")"
   ]
  },
  {
   "cell_type": "code",
   "execution_count": 17,
   "id": "956889ec",
   "metadata": {},
   "outputs": [
    {
     "name": "stdout",
     "output_type": "stream",
     "text": [
      "C:\\naught\n"
     ]
    }
   ],
   "source": [
    "print(\"C:\\\\naught\")"
   ]
  },
  {
   "cell_type": "code",
   "execution_count": 21,
   "id": "f06e56c1",
   "metadata": {},
   "outputs": [
    {
     "name": "stdout",
     "output_type": "stream",
     "text": [
      "juhi is \n",
      " good girl \t1\n"
     ]
    }
   ],
   "source": [
    "print(\"juhi is \\n good girl \\t1\")"
   ]
  },
  {
   "cell_type": "code",
   "execution_count": 26,
   "id": "513b68b6",
   "metadata": {},
   "outputs": [
    {
     "name": "stdout",
     "output_type": "stream",
     "text": [
      "juhi is \n",
      " good girl \t1\n"
     ]
    }
   ],
   "source": [
    "print(\"juhi is \\n good girl \\t1\") #comment after statement"
   ]
  },
  {
   "cell_type": "code",
   "execution_count": null,
   "id": "df17dc55",
   "metadata": {},
   "outputs": [],
   "source": []
  }
 ],
 "metadata": {
  "kernelspec": {
   "display_name": "Python 3",
   "language": "python",
   "name": "python3"
  },
  "language_info": {
   "codemirror_mode": {
    "name": "ipython",
    "version": 3
   },
   "file_extension": ".py",
   "mimetype": "text/x-python",
   "name": "python",
   "nbconvert_exporter": "python",
   "pygments_lexer": "ipython3",
   "version": "3.8.8"
  }
 },
 "nbformat": 4,
 "nbformat_minor": 5
}
